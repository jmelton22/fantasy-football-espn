{
 "cells": [
  {
   "cell_type": "code",
   "execution_count": 1,
   "metadata": {},
   "outputs": [],
   "source": [
    "from dotenv import dotenv_values\n",
    "from pprint import pprint\n",
    "\n",
    "from espn_api.football import League\n",
    "\n",
    "from fantasy_sim.matchup import LeagueWeek\n"
   ]
  },
  {
   "cell_type": "code",
   "execution_count": 2,
   "metadata": {},
   "outputs": [],
   "source": [
    "config = dotenv_values('.env')"
   ]
  },
  {
   "cell_type": "code",
   "execution_count": 3,
   "metadata": {},
   "outputs": [],
   "source": [
    "league_id = 76723515\n",
    "year = 2023"
   ]
  },
  {
   "cell_type": "code",
   "execution_count": 4,
   "metadata": {},
   "outputs": [],
   "source": [
    "league = League(league_id=league_id, year=year, espn_s2=config['espn_s2'], swid=config['SWID'])"
   ]
  },
  {
   "cell_type": "code",
   "execution_count": 5,
   "metadata": {},
   "outputs": [
    {
     "data": {
      "text/plain": [
       "League(76723515, 2023)"
      ]
     },
     "execution_count": 5,
     "metadata": {},
     "output_type": "execute_result"
    }
   ],
   "source": [
    "league"
   ]
  },
  {
   "cell_type": "code",
   "execution_count": 6,
   "metadata": {},
   "outputs": [],
   "source": [
    "league.load_roster_week(1)"
   ]
  },
  {
   "cell_type": "code",
   "execution_count": 7,
   "metadata": {},
   "outputs": [
    {
     "data": {
      "text/plain": [
       "[Team(CeeDee Lambchops),\n",
       " Team(Let 'Em Cook),\n",
       " Team(Baby Chark doo-doo),\n",
       " Team(Gibbs you hell),\n",
       " Team(Burrowing to Last Place),\n",
       " Team(Out of Favre),\n",
       " Team(Mixon Dixons),\n",
       " Team(Di**er?! I hardly know 'er!)]"
      ]
     },
     "execution_count": 7,
     "metadata": {},
     "output_type": "execute_result"
    }
   ],
   "source": [
    "league.teams"
   ]
  },
  {
   "cell_type": "code",
   "execution_count": 8,
   "metadata": {},
   "outputs": [],
   "source": [
    "my_team = league.teams[1]"
   ]
  },
  {
   "cell_type": "code",
   "execution_count": 9,
   "metadata": {},
   "outputs": [
    {
     "data": {
      "text/plain": [
       "[Player(Christian McCaffrey),\n",
       " Player(Garrett Wilson),\n",
       " Player(Patrick Mahomes),\n",
       " Player(Najee Harris),\n",
       " Player(Amari Cooper),\n",
       " Player(DeAndre Hopkins),\n",
       " Player(Rachaad White),\n",
       " Player(Kyle Pitts),\n",
       " Player(Tyler Lockett),\n",
       " Player(Dalvin Cook),\n",
       " Player(George Pickens),\n",
       " Player(Justin Tucker),\n",
       " Player(Saints D/ST),\n",
       " Player(Jakobi Meyers),\n",
       " Player(Raheem Mostert),\n",
       " Player(Dalton Schultz),\n",
       " Player(Aaron Rodgers),\n",
       " Player(Dolphins D/ST),\n",
       " Player(Darnell Mooney)]"
      ]
     },
     "execution_count": 9,
     "metadata": {},
     "output_type": "execute_result"
    }
   ],
   "source": [
    "my_team.roster"
   ]
  },
  {
   "cell_type": "code",
   "execution_count": 10,
   "metadata": {},
   "outputs": [],
   "source": [
    "box_scores = league.box_scores(1)"
   ]
  },
  {
   "cell_type": "code",
   "execution_count": 11,
   "metadata": {},
   "outputs": [
    {
     "data": {
      "text/plain": [
       "Box Score(Team(Out of Favre) at Team(Burrowing to Last Place))"
      ]
     },
     "execution_count": 11,
     "metadata": {},
     "output_type": "execute_result"
    }
   ],
   "source": [
    "box_scores[0]"
   ]
  },
  {
   "cell_type": "code",
   "execution_count": 12,
   "metadata": {},
   "outputs": [
    {
     "data": {
      "text/plain": [
       "[Box Score(Team(Out of Favre) at Team(Burrowing to Last Place)),\n",
       " Box Score(Team(Baby Chark doo-doo) at Team(Gibbs you hell)),\n",
       " Box Score(Team(CeeDee Lambchops) at Team(Mixon Dixons)),\n",
       " Box Score(Team(Di**er?! I hardly know 'er!) at Team(Let 'Em Cook))]"
      ]
     },
     "execution_count": 12,
     "metadata": {},
     "output_type": "execute_result"
    }
   ],
   "source": [
    "box_scores"
   ]
  },
  {
   "cell_type": "code",
   "execution_count": 13,
   "metadata": {},
   "outputs": [],
   "source": [
    "league_week = LeagueWeek(box_scores)"
   ]
  },
  {
   "cell_type": "code",
   "execution_count": 14,
   "metadata": {},
   "outputs": [
    {
     "name": "stdout",
     "output_type": "stream",
     "text": [
      "Home Team: Team(Burrowing to Last Place): 155.560 pts\n",
      "    QB:    Daniel Jones - 4.460\n",
      "    RB1:   Aaron Jones - 26.700\n",
      "    RB2:   Bijan Robinson - 20.300\n",
      "    WR1:   Zay Jones - 16.500\n",
      "    WR2:   A.J. Brown - 14.900\n",
      "    TE:    George Kittle - 4.900\n",
      "    FLEX1: David Montgomery - 13.400\n",
      "    FLEX2: Khalil Herbert - 11.400\n",
      "    D/ST:  Cowboys D/ST - 35.000\n",
      "    K:     Harrison Butker - 8.000\n",
      "----------\n",
      "Away Team: Team(Out of Favre): 122.440 pts\n",
      "    QB:    Trevor Lawrence - 17.740\n",
      "    RB1:   Derrick Henry - 13.900\n",
      "    RB2:   Miles Sanders - 11.800\n",
      "    WR1:   Courtland Sutton - 13.200\n",
      "    WR2:   Davante Adams - 12.600\n",
      "    TE:    T.J. Hockenson - 11.500\n",
      "    FLEX1: Deebo Samuel - 11.300\n",
      "    FLEX2: Cole Kmet - 9.400\n",
      "    D/ST:  Packers D/ST - 14.000\n",
      "    K:     Younghoe Koo - 7.000\n",
      "--------------------\n",
      "--------------------\n",
      "Home Team: Team(Gibbs you hell): 137.520 pts\n",
      "    QB:    Anthony Richardson - 20.920\n",
      "    RB1:   Tony Pollard - 22.200\n",
      "    RB2:   Javonte Williams - 9.700\n",
      "    WR1:   Michael Pittman Jr. - 23.700\n",
      "    WR2:   Keenan Allen - 14.200\n",
      "    TE:    Juwan Johnson - 6.600\n",
      "    FLEX1: Michael Thomas - 11.100\n",
      "    FLEX2: Chris Godwin - 10.100\n",
      "    D/ST:  Ravens D/ST - 12.000\n",
      "    K:     Jason Myers - 7.000\n",
      "----------\n",
      "Away Team: Team(Baby Chark doo-doo): 142.540 pts\n",
      "    QB:    Justin Fields - 14.540\n",
      "    RB1:   Travis Etienne Jr. - 21.400\n",
      "    RB2:   Kenneth Walker III - 10.700\n",
      "    WR1:   Justin Jefferson - 24.000\n",
      "    WR2:   Amon-Ra St. Brown - 19.100\n",
      "    TE:    Hayden Hurst - 15.100\n",
      "    FLEX1: Zay Flowers - 17.700\n",
      "    FLEX2: Nico Collins - 14.000\n",
      "    D/ST:  Steelers D/ST - 3.000\n",
      "    K:     Evan McPherson - 3.000\n",
      "--------------------\n",
      "--------------------\n",
      "Home Team: Team(Mixon Dixons): 145.660 pts\n",
      "    QB:    Justin Herbert - 20.860\n",
      "    RB1:   James Conner - 12.000\n",
      "    RB2:   Joe Mixon - 10.300\n",
      "    WR1:   Tyreek Hill - 44.500\n",
      "    WR2:   Mike Evans - 18.600\n",
      "    TE:    David Njoku - 4.400\n",
      "    FLEX1: DK Metcalf - 13.700\n",
      "    FLEX2: Saquon Barkley - 9.300\n",
      "    D/ST:  Patriots D/ST - 7.000\n",
      "    K:     Daniel Carlson - 5.000\n",
      "----------\n",
      "Away Team: Team(CeeDee Lambchops): 139.500 pts\n",
      "    QB:    Jalen Hurts - 12.500\n",
      "    RB1:   Austin Ekeler - 26.400\n",
      "    RB2:   Breece Hall - 15.700\n",
      "    WR1:   DeVonta Smith - 17.700\n",
      "    WR2:   CeeDee Lamb - 11.700\n",
      "    TE:    Dallas Goedert - 0.000\n",
      "    FLEX1: Rhamondre Stevenson - 14.900\n",
      "    FLEX2: Brian Robinson Jr. - 13.600\n",
      "    D/ST:  49ers D/ST - 14.000\n",
      "    K:     Tyler Bass - 13.000\n",
      "--------------------\n",
      "--------------------\n",
      "Home Team: Team(Let 'Em Cook): 154.140 pts\n",
      "    QB:    Patrick Mahomes - 19.540\n",
      "    RB1:   Christian McCaffrey - 25.900\n",
      "    RB2:   Raheem Mostert - 13.000\n",
      "    WR1:   Jakobi Meyers - 29.100\n",
      "    WR2:   Darnell Mooney - 15.300\n",
      "    TE:    Kyle Pitts - 6.400\n",
      "    FLEX1: Garrett Wilson - 14.400\n",
      "    FLEX2: DeAndre Hopkins - 13.500\n",
      "    D/ST:  Saints D/ST - 12.000\n",
      "    K:     Justin Tucker - 5.000\n",
      "----------\n",
      "Away Team: Team(Di**er?! I hardly know 'er!): 201.540 pts\n",
      "    QB:    Tua Tagovailoa - 27.140\n",
      "    RB1:   Tyler Allgeier - 24.400\n",
      "    RB2:   Nick Chubb - 16.700\n",
      "    WR1:   Brandon Aiyuk - 32.900\n",
      "    WR2:   Stefon Diggs - 26.200\n",
      "    TE:    Tyler Higbee - 7.900\n",
      "    FLEX1: Calvin Ridley - 24.100\n",
      "    FLEX2: Chris Olave - 19.200\n",
      "    D/ST:  Eagles D/ST - 11.000\n",
      "    K:     Cameron Dicker - 12.000\n"
     ]
    }
   ],
   "source": [
    "print(league_week)"
   ]
  },
  {
   "cell_type": "code",
   "execution_count": null,
   "metadata": {},
   "outputs": [],
   "source": []
  }
 ],
 "metadata": {
  "kernelspec": {
   "display_name": ".venv",
   "language": "python",
   "name": "python3"
  },
  "language_info": {
   "codemirror_mode": {
    "name": "ipython",
    "version": 3
   },
   "file_extension": ".py",
   "mimetype": "text/x-python",
   "name": "python",
   "nbconvert_exporter": "python",
   "pygments_lexer": "ipython3",
   "version": "3.11.7"
  }
 },
 "nbformat": 4,
 "nbformat_minor": 2
}
