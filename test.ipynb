{
 "cells": [
  {
   "cell_type": "code",
   "execution_count": 62,
   "metadata": {},
   "outputs": [],
   "source": [
    "from dotenv import dotenv_values\n",
    "from pprint import pprint\n",
    "\n",
    "from espn_api.football import League\n",
    "\n",
    "from fantasy_sim.roster import ActiveRoster, HeapPlayer\n",
    "\n",
    "import heapq"
   ]
  },
  {
   "cell_type": "code",
   "execution_count": 2,
   "metadata": {},
   "outputs": [],
   "source": [
    "config = dotenv_values('.env')"
   ]
  },
  {
   "cell_type": "code",
   "execution_count": 3,
   "metadata": {},
   "outputs": [],
   "source": [
    "league_id = 76723515\n",
    "year = 2023"
   ]
  },
  {
   "cell_type": "code",
   "execution_count": 4,
   "metadata": {},
   "outputs": [],
   "source": [
    "league = League(league_id=league_id, year=year, espn_s2=config['espn_s2'], swid=config['SWID'])"
   ]
  },
  {
   "cell_type": "code",
   "execution_count": 5,
   "metadata": {},
   "outputs": [
    {
     "data": {
      "text/plain": [
       "League(76723515, 2023)"
      ]
     },
     "execution_count": 5,
     "metadata": {},
     "output_type": "execute_result"
    }
   ],
   "source": [
    "league"
   ]
  },
  {
   "cell_type": "code",
   "execution_count": 6,
   "metadata": {},
   "outputs": [],
   "source": [
    "league.load_roster_week(1)"
   ]
  },
  {
   "cell_type": "code",
   "execution_count": 7,
   "metadata": {},
   "outputs": [
    {
     "data": {
      "text/plain": [
       "[Team(CeeDee Lambchops),\n",
       " Team(Let 'Em Cook),\n",
       " Team(Baby Chark doo-doo),\n",
       " Team(Gibbs you hell),\n",
       " Team(Burrowing to Last Place),\n",
       " Team(Out of Favre),\n",
       " Team(Mixon Dixons),\n",
       " Team(Di**er?! I hardly know 'er!)]"
      ]
     },
     "execution_count": 7,
     "metadata": {},
     "output_type": "execute_result"
    }
   ],
   "source": [
    "league.teams"
   ]
  },
  {
   "cell_type": "code",
   "execution_count": 8,
   "metadata": {},
   "outputs": [],
   "source": [
    "my_team = league.teams[1]"
   ]
  },
  {
   "cell_type": "code",
   "execution_count": 9,
   "metadata": {},
   "outputs": [
    {
     "data": {
      "text/plain": [
       "[Player(Christian McCaffrey),\n",
       " Player(Garrett Wilson),\n",
       " Player(Patrick Mahomes),\n",
       " Player(Najee Harris),\n",
       " Player(Amari Cooper),\n",
       " Player(DeAndre Hopkins),\n",
       " Player(Rachaad White),\n",
       " Player(Kyle Pitts),\n",
       " Player(Tyler Lockett),\n",
       " Player(Dalvin Cook),\n",
       " Player(George Pickens),\n",
       " Player(Justin Tucker),\n",
       " Player(Saints D/ST),\n",
       " Player(Jakobi Meyers),\n",
       " Player(Raheem Mostert),\n",
       " Player(Dalton Schultz),\n",
       " Player(Aaron Rodgers),\n",
       " Player(Dolphins D/ST),\n",
       " Player(Darnell Mooney)]"
      ]
     },
     "execution_count": 9,
     "metadata": {},
     "output_type": "execute_result"
    }
   ],
   "source": [
    "my_team.roster"
   ]
  },
  {
   "cell_type": "code",
   "execution_count": 10,
   "metadata": {},
   "outputs": [],
   "source": [
    "box_scores = league.box_scores(1)"
   ]
  },
  {
   "cell_type": "code",
   "execution_count": 11,
   "metadata": {},
   "outputs": [
    {
     "data": {
      "text/plain": [
       "Box Score(Team(Out of Favre) at Team(Burrowing to Last Place))"
      ]
     },
     "execution_count": 11,
     "metadata": {},
     "output_type": "execute_result"
    }
   ],
   "source": [
    "box_scores[0]"
   ]
  },
  {
   "cell_type": "code",
   "execution_count": 12,
   "metadata": {},
   "outputs": [
    {
     "name": "stdout",
     "output_type": "stream",
     "text": [
      "WR\n",
      "RB\n",
      "WR\n",
      "QB\n",
      "RB\n",
      "WR\n",
      "WR\n",
      "TE\n",
      "RB\n",
      "WR\n",
      "RB\n",
      "WR\n",
      "WR\n",
      "D/ST\n",
      "D/ST\n",
      "K\n",
      "QB\n",
      "TE\n",
      "WR\n",
      "WR\n"
     ]
    }
   ],
   "source": [
    "for player in box_scores[0].home_lineup:\n",
    "    print(player.position)"
   ]
  },
  {
   "cell_type": "code",
   "execution_count": 13,
   "metadata": {},
   "outputs": [],
   "source": [
    "test_roster = ActiveRoster()"
   ]
  },
  {
   "cell_type": "code",
   "execution_count": 14,
   "metadata": {},
   "outputs": [],
   "source": [
    "test_lineup = box_scores[0].home_lineup"
   ]
  },
  {
   "cell_type": "code",
   "execution_count": 44,
   "metadata": {},
   "outputs": [],
   "source": [
    "def build_player_heap(players):\n",
    "    player_heap = [HeapPlayer(p) for p in players]\n",
    "    heapq.heapify(player_heap)\n",
    "\n",
    "    return player_heap"
   ]
  },
  {
   "cell_type": "code",
   "execution_count": 45,
   "metadata": {},
   "outputs": [],
   "source": [
    "def is_roster_filled(roster):\n",
    "    return all(\n",
    "        all(slot) if isinstance(slot, tuple) else slot is not None\n",
    "        for slot in roster.values()\n",
    "    )"
   ]
  },
  {
   "cell_type": "code",
   "execution_count": 69,
   "metadata": {},
   "outputs": [],
   "source": [
    "FLEX_POS = ['RB', 'WR', 'TE', 'D/ST', 'K']"
   ]
  },
  {
   "cell_type": "code",
   "execution_count": 90,
   "metadata": {},
   "outputs": [],
   "source": [
    "roster = {\n",
    "    'QB': None,\n",
    "    'RB': [None, None],\n",
    "    'WR': [None, None],\n",
    "    'TE': None,\n",
    "    'FLEX': [None, None],\n",
    "    'D/ST': None,\n",
    "    'K': None\n",
    "}"
   ]
  },
  {
   "cell_type": "code",
   "execution_count": 91,
   "metadata": {},
   "outputs": [],
   "source": [
    "player_heap = build_player_heap(test_lineup)"
   ]
  },
  {
   "cell_type": "code",
   "execution_count": 92,
   "metadata": {},
   "outputs": [
    {
     "name": "stdout",
     "output_type": "stream",
     "text": [
      "{'D/ST': Player(Cowboys D/ST, points:35.0, projected:7.19),\n",
      " 'FLEX': [None, None],\n",
      " 'K': None,\n",
      " 'QB': None,\n",
      " 'RB': [None, None],\n",
      " 'TE': None,\n",
      " 'WR': [None, None]}\n",
      "-----\n",
      "{'D/ST': Player(Cowboys D/ST, points:35.0, projected:7.19),\n",
      " 'FLEX': [None, None],\n",
      " 'K': None,\n",
      " 'QB': None,\n",
      " 'RB': [Player(Aaron Jones, points:26.7, projected:15.53), None],\n",
      " 'TE': None,\n",
      " 'WR': [None, None]}\n",
      "-----\n",
      "{'D/ST': Player(Cowboys D/ST, points:35.0, projected:7.19),\n",
      " 'FLEX': [None, None],\n",
      " 'K': None,\n",
      " 'QB': None,\n",
      " 'RB': [Player(Aaron Jones, points:26.7, projected:15.53),\n",
      "        Player(Bijan Robinson, points:20.3, projected:17.76)],\n",
      " 'TE': None,\n",
      " 'WR': [None, None]}\n",
      "-----\n",
      "{'D/ST': Player(Cowboys D/ST, points:35.0, projected:7.19),\n",
      " 'FLEX': [None, None],\n",
      " 'K': None,\n",
      " 'QB': None,\n",
      " 'RB': [Player(Aaron Jones, points:26.7, projected:15.53),\n",
      "        Player(Bijan Robinson, points:20.3, projected:17.76)],\n",
      " 'TE': None,\n",
      " 'WR': [Player(Zay Jones, points:16.5, projected:8.74), None]}\n",
      "-----\n",
      "{'D/ST': Player(Cowboys D/ST, points:35.0, projected:7.19),\n",
      " 'FLEX': [None, None],\n",
      " 'K': None,\n",
      " 'QB': None,\n",
      " 'RB': [Player(Aaron Jones, points:26.7, projected:15.53),\n",
      "        Player(Bijan Robinson, points:20.3, projected:17.76)],\n",
      " 'TE': None,\n",
      " 'WR': [Player(Zay Jones, points:16.5, projected:8.74),\n",
      "        Player(A.J. Brown, points:14.9, projected:14.56)]}\n",
      "-----\n",
      "{'D/ST': Player(Cowboys D/ST, points:35.0, projected:7.19),\n",
      " 'FLEX': [Player(David Montgomery, points:13.4, projected:12.28), None],\n",
      " 'K': None,\n",
      " 'QB': None,\n",
      " 'RB': [Player(Aaron Jones, points:26.7, projected:15.53),\n",
      "        Player(Bijan Robinson, points:20.3, projected:17.76)],\n",
      " 'TE': None,\n",
      " 'WR': [Player(Zay Jones, points:16.5, projected:8.74),\n",
      "        Player(A.J. Brown, points:14.9, projected:14.56)]}\n",
      "-----\n",
      "{'D/ST': Player(Cowboys D/ST, points:35.0, projected:7.19),\n",
      " 'FLEX': [Player(David Montgomery, points:13.4, projected:12.28),\n",
      "          Player(Khalil Herbert, points:11.4, projected:11.38)],\n",
      " 'K': None,\n",
      " 'QB': None,\n",
      " 'RB': [Player(Aaron Jones, points:26.7, projected:15.53),\n",
      "        Player(Bijan Robinson, points:20.3, projected:17.76)],\n",
      " 'TE': None,\n",
      " 'WR': [Player(Zay Jones, points:16.5, projected:8.74),\n",
      "        Player(A.J. Brown, points:14.9, projected:14.56)]}\n",
      "-----\n",
      "{'D/ST': Player(Cowboys D/ST, points:35.0, projected:7.19),\n",
      " 'FLEX': [Player(David Montgomery, points:13.4, projected:12.28),\n",
      "          Player(Khalil Herbert, points:11.4, projected:11.38)],\n",
      " 'K': None,\n",
      " 'QB': None,\n",
      " 'RB': [Player(Aaron Jones, points:26.7, projected:15.53),\n",
      "        Player(Bijan Robinson, points:20.3, projected:17.76)],\n",
      " 'TE': None,\n",
      " 'WR': [Player(Zay Jones, points:16.5, projected:8.74),\n",
      "        Player(A.J. Brown, points:14.9, projected:14.56)]}\n",
      "-----\n",
      "{'D/ST': Player(Cowboys D/ST, points:35.0, projected:7.19),\n",
      " 'FLEX': [Player(David Montgomery, points:13.4, projected:12.28),\n",
      "          Player(Khalil Herbert, points:11.4, projected:11.38)],\n",
      " 'K': Player(Harrison Butker, points:8.0, projected:8.41),\n",
      " 'QB': None,\n",
      " 'RB': [Player(Aaron Jones, points:26.7, projected:15.53),\n",
      "        Player(Bijan Robinson, points:20.3, projected:17.76)],\n",
      " 'TE': None,\n",
      " 'WR': [Player(Zay Jones, points:16.5, projected:8.74),\n",
      "        Player(A.J. Brown, points:14.9, projected:14.56)]}\n",
      "-----\n",
      "{'D/ST': Player(Cowboys D/ST, points:35.0, projected:7.19),\n",
      " 'FLEX': [Player(David Montgomery, points:13.4, projected:12.28),\n",
      "          Player(Khalil Herbert, points:11.4, projected:11.38)],\n",
      " 'K': Player(Harrison Butker, points:8.0, projected:8.41),\n",
      " 'QB': None,\n",
      " 'RB': [Player(Aaron Jones, points:26.7, projected:15.53),\n",
      "        Player(Bijan Robinson, points:20.3, projected:17.76)],\n",
      " 'TE': None,\n",
      " 'WR': [Player(Zay Jones, points:16.5, projected:8.74),\n",
      "        Player(A.J. Brown, points:14.9, projected:14.56)]}\n",
      "-----\n",
      "{'D/ST': Player(Cowboys D/ST, points:35.0, projected:7.19),\n",
      " 'FLEX': [Player(David Montgomery, points:13.4, projected:12.28),\n",
      "          Player(Khalil Herbert, points:11.4, projected:11.38)],\n",
      " 'K': Player(Harrison Butker, points:8.0, projected:8.41),\n",
      " 'QB': None,\n",
      " 'RB': [Player(Aaron Jones, points:26.7, projected:15.53),\n",
      "        Player(Bijan Robinson, points:20.3, projected:17.76)],\n",
      " 'TE': None,\n",
      " 'WR': [Player(Zay Jones, points:16.5, projected:8.74),\n",
      "        Player(A.J. Brown, points:14.9, projected:14.56)]}\n",
      "-----\n",
      "{'D/ST': Player(Cowboys D/ST, points:35.0, projected:7.19),\n",
      " 'FLEX': [Player(David Montgomery, points:13.4, projected:12.28),\n",
      "          Player(Khalil Herbert, points:11.4, projected:11.38)],\n",
      " 'K': Player(Harrison Butker, points:8.0, projected:8.41),\n",
      " 'QB': None,\n",
      " 'RB': [Player(Aaron Jones, points:26.7, projected:15.53),\n",
      "        Player(Bijan Robinson, points:20.3, projected:17.76)],\n",
      " 'TE': None,\n",
      " 'WR': [Player(Zay Jones, points:16.5, projected:8.74),\n",
      "        Player(A.J. Brown, points:14.9, projected:14.56)]}\n",
      "-----\n",
      "{'D/ST': Player(Cowboys D/ST, points:35.0, projected:7.19),\n",
      " 'FLEX': [Player(David Montgomery, points:13.4, projected:12.28),\n",
      "          Player(Khalil Herbert, points:11.4, projected:11.38)],\n",
      " 'K': Player(Harrison Butker, points:8.0, projected:8.41),\n",
      " 'QB': None,\n",
      " 'RB': [Player(Aaron Jones, points:26.7, projected:15.53),\n",
      "        Player(Bijan Robinson, points:20.3, projected:17.76)],\n",
      " 'TE': Player(George Kittle, points:4.9, projected:10.48),\n",
      " 'WR': [Player(Zay Jones, points:16.5, projected:8.74),\n",
      "        Player(A.J. Brown, points:14.9, projected:14.56)]}\n",
      "-----\n",
      "{'D/ST': Player(Cowboys D/ST, points:35.0, projected:7.19),\n",
      " 'FLEX': [Player(David Montgomery, points:13.4, projected:12.28),\n",
      "          Player(Khalil Herbert, points:11.4, projected:11.38)],\n",
      " 'K': Player(Harrison Butker, points:8.0, projected:8.41),\n",
      " 'QB': None,\n",
      " 'RB': [Player(Aaron Jones, points:26.7, projected:15.53),\n",
      "        Player(Bijan Robinson, points:20.3, projected:17.76)],\n",
      " 'TE': Player(George Kittle, points:4.9, projected:10.48),\n",
      " 'WR': [Player(Zay Jones, points:16.5, projected:8.74),\n",
      "        Player(A.J. Brown, points:14.9, projected:14.56)]}\n",
      "-----\n",
      "{'D/ST': Player(Cowboys D/ST, points:35.0, projected:7.19),\n",
      " 'FLEX': [Player(David Montgomery, points:13.4, projected:12.28),\n",
      "          Player(Khalil Herbert, points:11.4, projected:11.38)],\n",
      " 'K': Player(Harrison Butker, points:8.0, projected:8.41),\n",
      " 'QB': Player(Daniel Jones, points:4.46, projected:17.51),\n",
      " 'RB': [Player(Aaron Jones, points:26.7, projected:15.53),\n",
      "        Player(Bijan Robinson, points:20.3, projected:17.76)],\n",
      " 'TE': Player(George Kittle, points:4.9, projected:10.48),\n",
      " 'WR': [Player(Zay Jones, points:16.5, projected:8.74),\n",
      "        Player(A.J. Brown, points:14.9, projected:14.56)]}\n",
      "-----\n"
     ]
    }
   ],
   "source": [
    "while not is_roster_filled(roster) and player_heap:\n",
    "    curr_player = heapq.heappop(player_heap)\n",
    "    pos = curr_player.position\n",
    "    slot = roster[pos]\n",
    "\n",
    "    if slot is None:\n",
    "        roster[pos] = curr_player\n",
    "    elif pos == 'RB' and not all(slot):\n",
    "        roster[pos][int(slot[0] is not None)] = curr_player\n",
    "    elif pos == 'WR' and not all(slot):\n",
    "        roster[pos][int(slot[0] is not None)] = curr_player\n",
    "    elif pos in FLEX_POS and not all(roster['FLEX']):\n",
    "        slot = roster['FLEX']\n",
    "        slot[int(slot[0] is not None)] = curr_player\n",
    "    pprint(roster)\n",
    "    print('-' * 5)"
   ]
  },
  {
   "cell_type": "code",
   "execution_count": 86,
   "metadata": {},
   "outputs": [
    {
     "name": "stdout",
     "output_type": "stream",
     "text": [
      "{'D/ST': Player(Cowboys D/ST, points:35.0, projected:7.19),\n",
      " 'FLEX': [Player(David Montgomery, points:13.4, projected:12.28),\n",
      "          Player(Khalil Herbert, points:11.4, projected:11.38)],\n",
      " 'K': Player(Harrison Butker, points:8.0, projected:8.41),\n",
      " 'QB': Player(Daniel Jones, points:4.46, projected:17.51),\n",
      " 'RB': [Player(Aaron Jones, points:26.7, projected:15.53),\n",
      "        Player(Bijan Robinson, points:20.3, projected:17.76)],\n",
      " 'TE': Player(George Kittle, points:4.9, projected:10.48),\n",
      " 'WR': [Player(Zay Jones, points:16.5, projected:8.74),\n",
      "        Player(A.J. Brown, points:14.9, projected:14.56)]}\n"
     ]
    }
   ],
   "source": [
    "pprint(roster)"
   ]
  },
  {
   "cell_type": "code",
   "execution_count": null,
   "metadata": {},
   "outputs": [],
   "source": []
  }
 ],
 "metadata": {
  "kernelspec": {
   "display_name": ".venv",
   "language": "python",
   "name": "python3"
  },
  "language_info": {
   "codemirror_mode": {
    "name": "ipython",
    "version": 3
   },
   "file_extension": ".py",
   "mimetype": "text/x-python",
   "name": "python",
   "nbconvert_exporter": "python",
   "pygments_lexer": "ipython3",
   "version": "3.11.7"
  }
 },
 "nbformat": 4,
 "nbformat_minor": 2
}
